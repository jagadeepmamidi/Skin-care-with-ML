{
 "cells": [
  {
   "cell_type": "markdown",
   "metadata": {},
   "source": [
    "1. Skin-care, Chemicals... it's complicated "
   ]
  },
  {
   "cell_type": "markdown",
   "metadata": {},
   "source": [
    "Choosing a new cosmetic or skin-care can be overwhelming and even scary. Many of us have had skin issues from trying new products. Though the info is on each product, understanding ingredient lists can be hard unless you're a chemist. Instead of guessing, we can use data science to predict which products might work for us. In this project, we'll build a recommendation system based on cosmetics' chemical components. We'll analyze ingredient lists for 1,472 products from Sephora using word embedding and a Document-Term Matrix (DTM). Then, we'll visualize ingredient similarities using t-SNE and Bokeh. Let's start by checking our data."
   ]
  },
  {
   "cell_type": "code",
   "execution_count": 77,
   "metadata": {},
   "outputs": [
    {
     "data": {
      "text/html": [
       "<div>\n",
       "<style scoped>\n",
       "    .dataframe tbody tr th:only-of-type {\n",
       "        vertical-align: middle;\n",
       "    }\n",
       "\n",
       "    .dataframe tbody tr th {\n",
       "        vertical-align: top;\n",
       "    }\n",
       "\n",
       "    .dataframe thead th {\n",
       "        text-align: right;\n",
       "    }\n",
       "</style>\n",
       "<table border=\"1\" class=\"dataframe\">\n",
       "  <thead>\n",
       "    <tr style=\"text-align: right;\">\n",
       "      <th></th>\n",
       "      <th>Label</th>\n",
       "      <th>Brand</th>\n",
       "      <th>Name</th>\n",
       "      <th>Price</th>\n",
       "      <th>Rank</th>\n",
       "      <th>Ingredients</th>\n",
       "      <th>Combination</th>\n",
       "      <th>Dry</th>\n",
       "      <th>Normal</th>\n",
       "      <th>Oily</th>\n",
       "      <th>Sensitive</th>\n",
       "    </tr>\n",
       "  </thead>\n",
       "  <tbody>\n",
       "    <tr>\n",
       "      <th>398</th>\n",
       "      <td>Cleanser</td>\n",
       "      <td>LANEIGE</td>\n",
       "      <td>Essential Power Skin Toner for Normal to Dry Skin</td>\n",
       "      <td>28</td>\n",
       "      <td>4.5</td>\n",
       "      <td>Water, Glycereth-26, Alcohol, Butylene Glycol,...</td>\n",
       "      <td>1</td>\n",
       "      <td>1</td>\n",
       "      <td>1</td>\n",
       "      <td>0</td>\n",
       "      <td>1</td>\n",
       "    </tr>\n",
       "    <tr>\n",
       "      <th>1146</th>\n",
       "      <td>Eye cream</td>\n",
       "      <td>DR. BRANDT SKINCARE</td>\n",
       "      <td>needles no more® NO MORE BAGGAGE™ eye de-puffi...</td>\n",
       "      <td>42</td>\n",
       "      <td>3.8</td>\n",
       "      <td>Water, Sodium Magnesium Silicate, Propanediol,...</td>\n",
       "      <td>1</td>\n",
       "      <td>1</td>\n",
       "      <td>1</td>\n",
       "      <td>1</td>\n",
       "      <td>1</td>\n",
       "    </tr>\n",
       "    <tr>\n",
       "      <th>885</th>\n",
       "      <td>Face Mask</td>\n",
       "      <td>TOO COOL FOR SCHOOL</td>\n",
       "      <td>Egg Cream Mask Hydration</td>\n",
       "      <td>24</td>\n",
       "      <td>4.3</td>\n",
       "      <td>Water, Butylene Glycol, Glycerin, PEG-32, Cycl...</td>\n",
       "      <td>1</td>\n",
       "      <td>1</td>\n",
       "      <td>1</td>\n",
       "      <td>0</td>\n",
       "      <td>1</td>\n",
       "    </tr>\n",
       "    <tr>\n",
       "      <th>956</th>\n",
       "      <td>Face Mask</td>\n",
       "      <td>TATA HARPER</td>\n",
       "      <td>Resurfacing Mask</td>\n",
       "      <td>62</td>\n",
       "      <td>4.3</td>\n",
       "      <td>Aloe barbadensis Leaf Juice*, Salix Alba (Will...</td>\n",
       "      <td>1</td>\n",
       "      <td>1</td>\n",
       "      <td>1</td>\n",
       "      <td>1</td>\n",
       "      <td>1</td>\n",
       "    </tr>\n",
       "    <tr>\n",
       "      <th>27</th>\n",
       "      <td>Moisturizer</td>\n",
       "      <td>ORIGINS</td>\n",
       "      <td>Dr. Andrew Weil For Origins™ Mega-Mushroom Rel...</td>\n",
       "      <td>34</td>\n",
       "      <td>4.4</td>\n",
       "      <td>Water, Butylene Glycol, PEG-4, Citrus Aurantiu...</td>\n",
       "      <td>1</td>\n",
       "      <td>1</td>\n",
       "      <td>1</td>\n",
       "      <td>1</td>\n",
       "      <td>1</td>\n",
       "    </tr>\n",
       "  </tbody>\n",
       "</table>\n",
       "</div>"
      ],
      "text/plain": [
       "            Label                Brand  \\\n",
       "398      Cleanser              LANEIGE   \n",
       "1146    Eye cream  DR. BRANDT SKINCARE   \n",
       "885     Face Mask  TOO COOL FOR SCHOOL   \n",
       "956     Face Mask          TATA HARPER   \n",
       "27    Moisturizer              ORIGINS   \n",
       "\n",
       "                                                   Name  Price  Rank  \\\n",
       "398   Essential Power Skin Toner for Normal to Dry Skin     28   4.5   \n",
       "1146  needles no more® NO MORE BAGGAGE™ eye de-puffi...     42   3.8   \n",
       "885                            Egg Cream Mask Hydration     24   4.3   \n",
       "956                                    Resurfacing Mask     62   4.3   \n",
       "27    Dr. Andrew Weil For Origins™ Mega-Mushroom Rel...     34   4.4   \n",
       "\n",
       "                                            Ingredients  Combination  Dry  \\\n",
       "398   Water, Glycereth-26, Alcohol, Butylene Glycol,...            1    1   \n",
       "1146  Water, Sodium Magnesium Silicate, Propanediol,...            1    1   \n",
       "885   Water, Butylene Glycol, Glycerin, PEG-32, Cycl...            1    1   \n",
       "956   Aloe barbadensis Leaf Juice*, Salix Alba (Will...            1    1   \n",
       "27    Water, Butylene Glycol, PEG-4, Citrus Aurantiu...            1    1   \n",
       "\n",
       "      Normal  Oily  Sensitive  \n",
       "398        1     0          1  \n",
       "1146       1     1          1  \n",
       "885        1     0          1  \n",
       "956        1     1          1  \n",
       "27         1     1          1  "
      ]
     },
     "metadata": {},
     "output_type": "display_data"
    },
    {
     "data": {
      "text/plain": [
       "Label\n",
       "Moisturizer    298\n",
       "Cleanser       281\n",
       "Face Mask      266\n",
       "Treatment      248\n",
       "Eye cream      209\n",
       "Sun protect    170\n",
       "Name: count, dtype: int64"
      ]
     },
     "execution_count": 77,
     "metadata": {},
     "output_type": "execute_result"
    }
   ],
   "source": [
    "import pandas as pd\n",
    "import numpy as np\n",
    "from sklearn.manifold import TSNE\n",
    "\n",
    "df = pd.read_csv(\"cosmetics.csv\")\n",
    "display(df.sample(5))\n",
    "df.Label.value_counts()"
   ]
  },
  {
   "cell_type": "markdown",
   "metadata": {},
   "source": [
    "2. Focus on one type of product and one skin type\n",
    "In our dataset, we have six types of products (moisturizers, cleansers, face masks, eye creams, and sun protection) and five skin types (combination, dry, normal, oily, and sensitive). Since everyone's skincare needs and skin types vary, let's set up our workflow to customize its outputs—a t-SNE model and a visualization of that model. For this example, let's narrow down to moisturizers for people with dry skin by filtering the data accordingly."
   ]
  },
  {
   "cell_type": "code",
   "execution_count": 78,
   "metadata": {},
   "outputs": [],
   "source": [
    "moisturizers = df[df.Label == \"Moisturizer\"]\n",
    "moisturizers_dry = moisturizers[moisturizers.Dry==1]\n",
    "moisturizers_dry = moisturizers_dry.reset_index(drop = True)"
   ]
  },
  {
   "cell_type": "markdown",
   "metadata": {},
   "source": [
    "3. Tokenizing the ingredients\n",
    "To get to our end goal of comparing ingredients in each product, we first need to do some preprocessing tasks and bookkeeping of the actual words in each product's ingredients list. The first step will be tokenizing the list of ingredients in Ingredients column. After splitting them into tokens, we'll make a binary bag of words. Then we will create a dictionary with the tokens, ingredient_idx, which will have the following format:\n",
    "\n",
    "{ \"ingredient\": index value, ... }"
   ]
  },
  {
   "cell_type": "code",
   "execution_count": 79,
   "metadata": {},
   "outputs": [
    {
     "name": "stdout",
     "output_type": "stream",
     "text": [
      "the index of Decyl oleate 25\n"
     ]
    }
   ],
   "source": [
    "ingredient_idx = {}\n",
    "c = []\n",
    "idx = 0\n",
    "\n",
    "for i in range(len(moisturizers_dry)):\n",
    "    ingredients = moisturizers_dry[\"Ingredients\"][i]\n",
    "    ingredients_low = ingredients.lower()\n",
    "    tokens = ingredients_low.split(', ')\n",
    "    c.append(tokens)\n",
    "    for ingredients in tokens:\n",
    "        if ingredients not in ingredient_idx:\n",
    "            ingredient_idx[ingredients] = idx\n",
    "            idx +=1\n",
    "\n",
    "print(\"the index of Decyl oleate\", ingredient_idx['decyl oleate'])"
   ]
  },
  {
   "cell_type": "markdown",
   "metadata": {},
   "source": [
    "4. Initializing a document-term matrix (DTM)\n",
    "The next step is making a document-term matrix (DTM). Here each cosmetic product will correspond to a document, and each chemical composition will correspond to a term. This means we can think of the matrix as a “cosmetic-ingredient” matrix.To create this matrix, we'll first make an empty matrix filled with zeros. The length of the matrix is the total number of cosmetic products in the data. The width of the matrix is the total number of ingredients. After initializing this empty matrix, we'll fill it in the following tasks."
   ]
  },
  {
   "cell_type": "code",
   "execution_count": 80,
   "metadata": {},
   "outputs": [],
   "source": [
    "M = len(moisturizers_dry)\n",
    "N = len(ingredient_idx)\n",
    "J = np.zeros((M,N))"
   ]
  },
  {
   "cell_type": "markdown",
   "metadata": {},
   "source": [
    "5. Before we can fill the matrix, let's create a function to count the tokens (i.e., an ingredients list) for each row. Our end goal is to fill the matrix with 1 or 0: if an ingredient is in a cosmetic, the value is 1. If not, it remains 0. The name of this function, oh_hoyiyaa, will become clear next."
   ]
  },
  {
   "cell_type": "code",
   "execution_count": 81,
   "metadata": {},
   "outputs": [],
   "source": [
    "def oh_hoyiyaa(tokens):\n",
    "    x = np.zeros(N)\n",
    "    for ingredient in tokens:\n",
    "        idx = ingredient_idx[ingredient]\n",
    "        x[idx] = 1\n",
    "    return x"
   ]
  },
  {
   "cell_type": "markdown",
   "metadata": {},
   "source": [
    "6. The Cosmetic-Ingredient matrix!\n",
    "Now we'll apply the oh_hoyiyaa() functon to the tokens in c(list) and set the values at each row of this matrix. So the result will tell us what ingredients each item is composed of. For example, if a cosmetic item contains water, niacin, decyl aleate and sh-polypeptide-1, the outcome of this item will be as follows.\n",
    "[[1 1 0 0 1 ... 0]\n",
    " [0 1 1 0 0 ... 1]\n",
    " [1 0 0 1 1 ... 0]\n",
    " [0 1 0 0 0 ... 0]\n",
    " [1 0 1 0 0 ... 1]]\n",
    "This is what we called one-hot encoding. By encoding each ingredient in the items, the Cosmetic-Ingredient matrix will be filled with binary values."
   ]
  },
  {
   "cell_type": "code",
   "execution_count": 82,
   "metadata": {},
   "outputs": [],
   "source": [
    "i = 0\n",
    "for tokens in c:\n",
    "    J[i, :] = oh_hoyiyaa(tokens)\n",
    "    i = i+1"
   ]
  },
  {
   "cell_type": "markdown",
   "metadata": {},
   "source": [
    "7. Dimension reduction with t-SNE\n",
    "The dimensions of the existing matrix is (190, 2233), which means there are 2233 features in our data. For visualization, we should downsize this into two dimensions. We'll use t-SNE for reducing the dimension of the data here.\n",
    "\n",
    "T-distributed Stochastic Neighbor Embedding (t-SNE) is a nonlinear dimensionality reduction technique that is well-suited for embedding high-dimensional data for visualization in a low-dimensional space of two or three dimensions. Specifically, this technique can reduce the dimension of data while keeping the similarities between the instances. This enables us to make a plot on the coordinate plane, which can be said as vectorizing. All of these cosmetic items in our data will be vectorized into two-dimensional coordinates, and the distances between the points will indicate the similarities between the items."
   ]
  },
  {
   "cell_type": "code",
   "execution_count": 83,
   "metadata": {},
   "outputs": [],
   "source": [
    "mod = TSNE(n_components=2, learning_rate=200, random_state=42)\n",
    "tsne_feats = mod.fit_transform(J)\n",
    "moisturizers_dry['X'] = tsne_feats[:,0]\n",
    "moisturizers_dry['Y'] = tsne_feats[:,1]\n",
    "\n",
    "X_embedded = mod.fit_transform(tsne_feats)\n",
    "tsne_df = pd.DataFrame(X_embedded, columns=['t-SNE 1', 't-SNE 2'])\n",
    "tsne_df['Product Name'] = df['Name']\n",
    "tsne_df['Brand'] = df['Brand']\n",
    "tsne_df['Price'] = df['Price']"
   ]
  },
  {
   "cell_type": "markdown",
   "metadata": {},
   "source": [
    "8. Let's map the items with Bokeh\n",
    "We are now ready to start creating our plot. With the t-SNE values, we can plot all our items on the coordinate plane. And the coolest part here is that it will also show us the name, the brand, the price and the rank of each item. Let's make a scatter plot using Bokeh and add a hover tool to show that information. Note that we won't display the plot yet as we will make some more additions to it."
   ]
  },
  {
   "cell_type": "code",
   "execution_count": 84,
   "metadata": {},
   "outputs": [
    {
     "data": {
      "text/html": [
       "    <style>\n",
       "        .bk-notebook-logo {\n",
       "            display: block;\n",
       "            width: 20px;\n",
       "            height: 20px;\n",
       "            background-image: url(data:image/png;base64,iVBORw0KGgoAAAANSUhEUgAAABQAAAAUCAYAAACNiR0NAAAABHNCSVQICAgIfAhkiAAAAAlwSFlzAAALEgAACxIB0t1+/AAAABx0RVh0U29mdHdhcmUAQWRvYmUgRmlyZXdvcmtzIENTNui8sowAAAOkSURBVDiNjZRtaJVlGMd/1/08zzln5zjP1LWcU9N0NkN8m2CYjpgQYQXqSs0I84OLIC0hkEKoPtiH3gmKoiJDU7QpLgoLjLIQCpEsNJ1vqUOdO7ppbuec5+V+rj4ctwzd8IIbbi6u+8f1539dt3A78eXC7QizUF7gyV1fD1Yqg4JWz84yffhm0qkFqBogB9rM8tZdtwVsPUhWhGcFJngGeWrPzHm5oaMmkfEg1usvLFyc8jLRqDOMru7AyC8saQr7GG7f5fvDeH7Ej8CM66nIF+8yngt6HWaKh7k49Soy9nXurCi1o3qUbS3zWfrYeQDTB/Qj6kX6Ybhw4B+bOYoLKCC9H3Nu/leUTZ1JdRWkkn2ldcCamzrcf47KKXdAJllSlxAOkRgyHsGC/zRday5Qld9DyoM4/q/rUoy/CXh3jzOu3bHUVZeU+DEn8FInkPBFlu3+nW3Nw0mk6vCDiWg8CeJaxEwuHS3+z5RgY+YBR6V1Z1nxSOfoaPa4LASWxxdNp+VWTk7+4vzaou8v8PN+xo+KY2xsw6une2frhw05CTYOmQvsEhjhWjn0bmXPjpE1+kplmmkP3suftwTubK9Vq22qKmrBhpY4jvd5afdRA3wGjFAgcnTK2s4hY0/GPNIb0nErGMCRxWOOX64Z8RAC4oCXdklmEvcL8o0BfkNK4lUg9HTl+oPlQxdNo3Mg4Nv175e/1LDGzZen30MEjRUtmXSfiTVu1kK8W4txyV6BMKlbgk3lMwYCiusNy9fVfvvwMxv8Ynl6vxoByANLTWplvuj/nF9m2+PDtt1eiHPBr1oIfhCChQMBw6Aw0UulqTKZdfVvfG7VcfIqLG9bcldL/+pdWTLxLUy8Qq38heUIjh4XlzZxzQm19lLFlr8vdQ97rjZVOLf8nclzckbcD4wxXMidpX30sFd37Fv/GtwwhzhxGVAprjbg0gCAEeIgwCZyTV2Z1REEW8O4py0wsjeloKoMr6iCY6dP92H6Vw/oTyICIthibxjm/DfN9lVz8IqtqKYLUXfoKVMVQVVJOElGjrnnUt9T9wbgp8AyYKaGlqingHZU/uG2NTZSVqwHQTWkx9hxjkpWDaCg6Ckj5qebgBVbT3V3NNXMSiWSDdGV3hrtzla7J+duwPOToIg42ChPQOQjspnSlp1V+Gjdged7+8UN5CRAV7a5EdFNwCjEaBR27b3W890TE7g24NAP/mMDXRWrGoFPQI9ls/MWO2dWFAar/xcOIImbbpA3zgAAAABJRU5ErkJggg==);\n",
       "        }\n",
       "    </style>\n",
       "    <div>\n",
       "        <a href=\"https://bokeh.org\" target=\"_blank\" class=\"bk-notebook-logo\"></a>\n",
       "        <span id=\"d70c5e98-a091-4f85-b56b-0f7a8deab050\">Loading BokehJS ...</span>\n",
       "    </div>\n"
      ]
     },
     "metadata": {},
     "output_type": "display_data"
    },
    {
     "data": {
      "application/javascript": "'use strict';\n(function(root) {\n  function now() {\n    return new Date();\n  }\n\n  const force = true;\n\n  if (typeof root._bokeh_onload_callbacks === \"undefined\" || force === true) {\n    root._bokeh_onload_callbacks = [];\n    root._bokeh_is_loading = undefined;\n  }\n\nconst JS_MIME_TYPE = 'application/javascript';\n  const HTML_MIME_TYPE = 'text/html';\n  const EXEC_MIME_TYPE = 'application/vnd.bokehjs_exec.v0+json';\n  const CLASS_NAME = 'output_bokeh rendered_html';\n\n  /**\n   * Render data to the DOM node\n   */\n  function render(props, node) {\n    const script = document.createElement(\"script\");\n    node.appendChild(script);\n  }\n\n  /**\n   * Handle when an output is cleared or removed\n   */\n  function handleClearOutput(event, handle) {\n    function drop(id) {\n      const view = Bokeh.index.get_by_id(id)\n      if (view != null) {\n        view.model.document.clear()\n        Bokeh.index.delete(view)\n      }\n    }\n\n    const cell = handle.cell;\n\n    const id = cell.output_area._bokeh_element_id;\n    const server_id = cell.output_area._bokeh_server_id;\n\n    // Clean up Bokeh references\n    if (id != null) {\n      drop(id)\n    }\n\n    if (server_id !== undefined) {\n      // Clean up Bokeh references\n      const cmd_clean = \"from bokeh.io.state import curstate; print(curstate().uuid_to_server['\" + server_id + \"'].get_sessions()[0].document.roots[0]._id)\";\n      cell.notebook.kernel.execute(cmd_clean, {\n        iopub: {\n          output: function(msg) {\n            const id = msg.content.text.trim()\n            drop(id)\n          }\n        }\n      });\n      // Destroy server and session\n      const cmd_destroy = \"import bokeh.io.notebook as ion; ion.destroy_server('\" + server_id + \"')\";\n      cell.notebook.kernel.execute(cmd_destroy);\n    }\n  }\n\n  /**\n   * Handle when a new output is added\n   */\n  function handleAddOutput(event, handle) {\n    const output_area = handle.output_area;\n    const output = handle.output;\n\n    // limit handleAddOutput to display_data with EXEC_MIME_TYPE content only\n    if ((output.output_type != \"display_data\") || (!Object.prototype.hasOwnProperty.call(output.data, EXEC_MIME_TYPE))) {\n      return\n    }\n\n    const toinsert = output_area.element.find(\".\" + CLASS_NAME.split(' ')[0]);\n\n    if (output.metadata[EXEC_MIME_TYPE][\"id\"] !== undefined) {\n      toinsert[toinsert.length - 1].firstChild.textContent = output.data[JS_MIME_TYPE];\n      // store reference to embed id on output_area\n      output_area._bokeh_element_id = output.metadata[EXEC_MIME_TYPE][\"id\"];\n    }\n    if (output.metadata[EXEC_MIME_TYPE][\"server_id\"] !== undefined) {\n      const bk_div = document.createElement(\"div\");\n      bk_div.innerHTML = output.data[HTML_MIME_TYPE];\n      const script_attrs = bk_div.children[0].attributes;\n      for (let i = 0; i < script_attrs.length; i++) {\n        toinsert[toinsert.length - 1].firstChild.setAttribute(script_attrs[i].name, script_attrs[i].value);\n        toinsert[toinsert.length - 1].firstChild.textContent = bk_div.children[0].textContent\n      }\n      // store reference to server id on output_area\n      output_area._bokeh_server_id = output.metadata[EXEC_MIME_TYPE][\"server_id\"];\n    }\n  }\n\n  function register_renderer(events, OutputArea) {\n\n    function append_mime(data, metadata, element) {\n      // create a DOM node to render to\n      const toinsert = this.create_output_subarea(\n        metadata,\n        CLASS_NAME,\n        EXEC_MIME_TYPE\n      );\n      this.keyboard_manager.register_events(toinsert);\n      // Render to node\n      const props = {data: data, metadata: metadata[EXEC_MIME_TYPE]};\n      render(props, toinsert[toinsert.length - 1]);\n      element.append(toinsert);\n      return toinsert\n    }\n\n    /* Handle when an output is cleared or removed */\n    events.on('clear_output.CodeCell', handleClearOutput);\n    events.on('delete.Cell', handleClearOutput);\n\n    /* Handle when a new output is added */\n    events.on('output_added.OutputArea', handleAddOutput);\n\n    /**\n     * Register the mime type and append_mime function with output_area\n     */\n    OutputArea.prototype.register_mime_type(EXEC_MIME_TYPE, append_mime, {\n      /* Is output safe? */\n      safe: true,\n      /* Index of renderer in `output_area.display_order` */\n      index: 0\n    });\n  }\n\n  // register the mime type if in Jupyter Notebook environment and previously unregistered\n  if (root.Jupyter !== undefined) {\n    const events = require('base/js/events');\n    const OutputArea = require('notebook/js/outputarea').OutputArea;\n\n    if (OutputArea.prototype.mime_types().indexOf(EXEC_MIME_TYPE) == -1) {\n      register_renderer(events, OutputArea);\n    }\n  }\n  if (typeof (root._bokeh_timeout) === \"undefined\" || force === true) {\n    root._bokeh_timeout = Date.now() + 5000;\n    root._bokeh_failed_load = false;\n  }\n\n  const NB_LOAD_WARNING = {'data': {'text/html':\n     \"<div style='background-color: #fdd'>\\n\"+\n     \"<p>\\n\"+\n     \"BokehJS does not appear to have successfully loaded. If loading BokehJS from CDN, this \\n\"+\n     \"may be due to a slow or bad network connection. Possible fixes:\\n\"+\n     \"</p>\\n\"+\n     \"<ul>\\n\"+\n     \"<li>re-rerun `output_notebook()` to attempt to load from CDN again, or</li>\\n\"+\n     \"<li>use INLINE resources instead, as so:</li>\\n\"+\n     \"</ul>\\n\"+\n     \"<code>\\n\"+\n     \"from bokeh.resources import INLINE\\n\"+\n     \"output_notebook(resources=INLINE)\\n\"+\n     \"</code>\\n\"+\n     \"</div>\"}};\n\n  function display_loaded(error = null) {\n    const el = document.getElementById(\"d70c5e98-a091-4f85-b56b-0f7a8deab050\");\n    if (el != null) {\n      const html = (() => {\n        if (typeof root.Bokeh === \"undefined\") {\n          if (error == null) {\n            return \"BokehJS is loading ...\";\n          } else {\n            return \"BokehJS failed to load.\";\n          }\n        } else {\n          const prefix = `BokehJS ${root.Bokeh.version}`;\n          if (error == null) {\n            return `${prefix} successfully loaded.`;\n          } else {\n            return `${prefix} <b>encountered errors</b> while loading and may not function as expected.`;\n          }\n        }\n      })();\n      el.innerHTML = html;\n\n      if (error != null) {\n        const wrapper = document.createElement(\"div\");\n        wrapper.style.overflow = \"auto\";\n        wrapper.style.height = \"5em\";\n        wrapper.style.resize = \"vertical\";\n        const content = document.createElement(\"div\");\n        content.style.fontFamily = \"monospace\";\n        content.style.whiteSpace = \"pre-wrap\";\n        content.style.backgroundColor = \"rgb(255, 221, 221)\";\n        content.textContent = error.stack ?? error.toString();\n        wrapper.append(content);\n        el.append(wrapper);\n      }\n    } else if (Date.now() < root._bokeh_timeout) {\n      setTimeout(() => display_loaded(error), 100);\n    }\n  }\n\n  function run_callbacks() {\n    try {\n      root._bokeh_onload_callbacks.forEach(function(callback) {\n        if (callback != null)\n          callback();\n      });\n    } finally {\n      delete root._bokeh_onload_callbacks\n    }\n    console.debug(\"Bokeh: all callbacks have finished\");\n  }\n\n  function load_libs(css_urls, js_urls, callback) {\n    if (css_urls == null) css_urls = [];\n    if (js_urls == null) js_urls = [];\n\n    root._bokeh_onload_callbacks.push(callback);\n    if (root._bokeh_is_loading > 0) {\n      console.debug(\"Bokeh: BokehJS is being loaded, scheduling callback at\", now());\n      return null;\n    }\n    if (js_urls == null || js_urls.length === 0) {\n      run_callbacks();\n      return null;\n    }\n    console.debug(\"Bokeh: BokehJS not loaded, scheduling load and callback at\", now());\n    root._bokeh_is_loading = css_urls.length + js_urls.length;\n\n    function on_load() {\n      root._bokeh_is_loading--;\n      if (root._bokeh_is_loading === 0) {\n        console.debug(\"Bokeh: all BokehJS libraries/stylesheets loaded\");\n        run_callbacks()\n      }\n    }\n\n    function on_error(url) {\n      console.error(\"failed to load \" + url);\n    }\n\n    for (let i = 0; i < css_urls.length; i++) {\n      const url = css_urls[i];\n      const element = document.createElement(\"link\");\n      element.onload = on_load;\n      element.onerror = on_error.bind(null, url);\n      element.rel = \"stylesheet\";\n      element.type = \"text/css\";\n      element.href = url;\n      console.debug(\"Bokeh: injecting link tag for BokehJS stylesheet: \", url);\n      document.body.appendChild(element);\n    }\n\n    for (let i = 0; i < js_urls.length; i++) {\n      const url = js_urls[i];\n      const element = document.createElement('script');\n      element.onload = on_load;\n      element.onerror = on_error.bind(null, url);\n      element.async = false;\n      element.src = url;\n      console.debug(\"Bokeh: injecting script tag for BokehJS library: \", url);\n      document.head.appendChild(element);\n    }\n  };\n\n  function inject_raw_css(css) {\n    const element = document.createElement(\"style\");\n    element.appendChild(document.createTextNode(css));\n    document.body.appendChild(element);\n  }\n\n  const js_urls = [\"https://cdn.bokeh.org/bokeh/release/bokeh-3.5.0.min.js\", \"https://cdn.bokeh.org/bokeh/release/bokeh-gl-3.5.0.min.js\", \"https://cdn.bokeh.org/bokeh/release/bokeh-widgets-3.5.0.min.js\", \"https://cdn.bokeh.org/bokeh/release/bokeh-tables-3.5.0.min.js\", \"https://cdn.bokeh.org/bokeh/release/bokeh-mathjax-3.5.0.min.js\"];\n  const css_urls = [];\n\n  const inline_js = [    function(Bokeh) {\n      Bokeh.set_log_level(\"info\");\n    },\nfunction(Bokeh) {\n    }\n  ];\n\n  function run_inline_js() {\n    if (root.Bokeh !== undefined || force === true) {\n      try {\n            for (let i = 0; i < inline_js.length; i++) {\n      inline_js[i].call(root, root.Bokeh);\n    }\n\n      } catch (error) {display_loaded(error);throw error;\n      }if (force === true) {\n        display_loaded();\n      }} else if (Date.now() < root._bokeh_timeout) {\n      setTimeout(run_inline_js, 100);\n    } else if (!root._bokeh_failed_load) {\n      console.log(\"Bokeh: BokehJS failed to load within specified timeout.\");\n      root._bokeh_failed_load = true;\n    } else if (force !== true) {\n      const cell = $(document.getElementById(\"d70c5e98-a091-4f85-b56b-0f7a8deab050\")).parents('.cell').data().cell;\n      cell.output_area.append_execute_result(NB_LOAD_WARNING)\n    }\n  }\n\n  if (root._bokeh_is_loading === 0) {\n    console.debug(\"Bokeh: BokehJS loaded, going straight to plotting\");\n    run_inline_js();\n  } else {\n    load_libs(css_urls, js_urls, function() {\n      console.debug(\"Bokeh: BokehJS plotting callback run at\", now());\n      run_inline_js();\n    });\n  }\n}(window));",
      "application/vnd.bokehjs_load.v0+json": ""
     },
     "metadata": {},
     "output_type": "display_data"
    },
    {
     "data": {
      "text/html": [
       "<div style=\"display: table;\"><div style=\"display: table-row;\"><div style=\"display: table-cell;\"><b title=\"bokeh.models.renderers.glyph_renderer.GlyphRenderer\">GlyphRenderer</b>(</div><div style=\"display: table-cell;\">id&nbsp;=&nbsp;'p2453', <span id=\"p2457\" style=\"cursor: pointer;\">&hellip;)</span></div></div><div class=\"p2456\" style=\"display: none;\"><div style=\"display: table-cell;\"></div><div style=\"display: table-cell;\">context_menu&nbsp;=&nbsp;None,</div></div><div class=\"p2456\" style=\"display: none;\"><div style=\"display: table-cell;\"></div><div style=\"display: table-cell;\">coordinates&nbsp;=&nbsp;None,</div></div><div class=\"p2456\" style=\"display: none;\"><div style=\"display: table-cell;\"></div><div style=\"display: table-cell;\">css_classes&nbsp;=&nbsp;[],</div></div><div class=\"p2456\" style=\"display: none;\"><div style=\"display: table-cell;\"></div><div style=\"display: table-cell;\">css_variables&nbsp;=&nbsp;{},</div></div><div class=\"p2456\" style=\"display: none;\"><div style=\"display: table-cell;\"></div><div style=\"display: table-cell;\">data_source&nbsp;=&nbsp;ColumnDataSource(id='p2421', ...),</div></div><div class=\"p2456\" style=\"display: none;\"><div style=\"display: table-cell;\"></div><div style=\"display: table-cell;\">glyph&nbsp;=&nbsp;Scatter(id='p2450', ...),</div></div><div class=\"p2456\" style=\"display: none;\"><div style=\"display: table-cell;\"></div><div style=\"display: table-cell;\">group&nbsp;=&nbsp;None,</div></div><div class=\"p2456\" style=\"display: none;\"><div style=\"display: table-cell;\"></div><div style=\"display: table-cell;\">hover_glyph&nbsp;=&nbsp;None,</div></div><div class=\"p2456\" style=\"display: none;\"><div style=\"display: table-cell;\"></div><div style=\"display: table-cell;\">js_event_callbacks&nbsp;=&nbsp;{},</div></div><div class=\"p2456\" style=\"display: none;\"><div style=\"display: table-cell;\"></div><div style=\"display: table-cell;\">js_property_callbacks&nbsp;=&nbsp;{},</div></div><div class=\"p2456\" style=\"display: none;\"><div style=\"display: table-cell;\"></div><div style=\"display: table-cell;\">level&nbsp;=&nbsp;'glyph',</div></div><div class=\"p2456\" style=\"display: none;\"><div style=\"display: table-cell;\"></div><div style=\"display: table-cell;\">muted&nbsp;=&nbsp;False,</div></div><div class=\"p2456\" style=\"display: none;\"><div style=\"display: table-cell;\"></div><div style=\"display: table-cell;\">muted_glyph&nbsp;=&nbsp;Scatter(id='p2452', ...),</div></div><div class=\"p2456\" style=\"display: none;\"><div style=\"display: table-cell;\"></div><div style=\"display: table-cell;\">name&nbsp;=&nbsp;None,</div></div><div class=\"p2456\" style=\"display: none;\"><div style=\"display: table-cell;\"></div><div style=\"display: table-cell;\">nonselection_glyph&nbsp;=&nbsp;Scatter(id='p2451', ...),</div></div><div class=\"p2456\" style=\"display: none;\"><div style=\"display: table-cell;\"></div><div style=\"display: table-cell;\">propagate_hover&nbsp;=&nbsp;False,</div></div><div class=\"p2456\" style=\"display: none;\"><div style=\"display: table-cell;\"></div><div style=\"display: table-cell;\">selection_glyph&nbsp;=&nbsp;'auto',</div></div><div class=\"p2456\" style=\"display: none;\"><div style=\"display: table-cell;\"></div><div style=\"display: table-cell;\">styles&nbsp;=&nbsp;{},</div></div><div class=\"p2456\" style=\"display: none;\"><div style=\"display: table-cell;\"></div><div style=\"display: table-cell;\">stylesheets&nbsp;=&nbsp;[],</div></div><div class=\"p2456\" style=\"display: none;\"><div style=\"display: table-cell;\"></div><div style=\"display: table-cell;\">subscribed_events&nbsp;=&nbsp;PropertyValueSet(),</div></div><div class=\"p2456\" style=\"display: none;\"><div style=\"display: table-cell;\"></div><div style=\"display: table-cell;\">syncable&nbsp;=&nbsp;True,</div></div><div class=\"p2456\" style=\"display: none;\"><div style=\"display: table-cell;\"></div><div style=\"display: table-cell;\">tags&nbsp;=&nbsp;[],</div></div><div class=\"p2456\" style=\"display: none;\"><div style=\"display: table-cell;\"></div><div style=\"display: table-cell;\">view&nbsp;=&nbsp;CDSView(id='p2454', ...),</div></div><div class=\"p2456\" style=\"display: none;\"><div style=\"display: table-cell;\"></div><div style=\"display: table-cell;\">visible&nbsp;=&nbsp;True,</div></div><div class=\"p2456\" style=\"display: none;\"><div style=\"display: table-cell;\"></div><div style=\"display: table-cell;\">x_range_name&nbsp;=&nbsp;'default',</div></div><div class=\"p2456\" style=\"display: none;\"><div style=\"display: table-cell;\"></div><div style=\"display: table-cell;\">y_range_name&nbsp;=&nbsp;'default')</div></div></div>\n",
       "<script>\n",
       "(function() {\n",
       "  let expanded = false;\n",
       "  const ellipsis = document.getElementById(\"p2457\");\n",
       "  ellipsis.addEventListener(\"click\", function() {\n",
       "    const rows = document.getElementsByClassName(\"p2456\");\n",
       "    for (let i = 0; i < rows.length; i++) {\n",
       "      const el = rows[i];\n",
       "      el.style.display = expanded ? \"none\" : \"table-row\";\n",
       "    }\n",
       "    ellipsis.innerHTML = expanded ? \"&hellip;)\" : \"&lsaquo;&lsaquo;&lsaquo;\";\n",
       "    expanded = !expanded;\n",
       "  });\n",
       "})();\n",
       "</script>\n"
      ],
      "text/plain": [
       "GlyphRenderer(id='p2453', ...)"
      ]
     },
     "execution_count": 84,
     "metadata": {},
     "output_type": "execute_result"
    }
   ],
   "source": [
    "from bokeh.plotting import figure, show, output_notebook\n",
    "from bokeh.models import ColumnDataSource, HoverTool\n",
    "from bokeh.transform import factor_cmap\n",
    "\n",
    "output_notebook()\n",
    "\n",
    "source = ColumnDataSource(tsne_df)\n",
    "p = figure(title=\"t-SNE Visualization of Cosmetic Ingredients\",\n",
    "           x_axis_label='t-SNE 1', y_axis_label='t-SNE 2', tools=[hover])\n",
    "\n",
    "p.scatter('t-SNE 1', 't-SNE 2', size=8, source=source, fill_alpha=0.6,\n",
    "         color=factor_cmap('Brand', palette='Viridis256', factors=tsne_df['Brand'].unique()))\n",
    "\n"
   ]
  },
  {
   "cell_type": "markdown",
   "metadata": {},
   "source": [
    "9. Adding a hover tool\n",
    "Why don't we add a hover tool? Adding a hover tool allows us to check the information of each item whenever the cursor is directly over a glyph. We'll add tooltips with each product's name, brand, price, and rank (i.e., rating)."
   ]
  },
  {
   "cell_type": "code",
   "execution_count": 85,
   "metadata": {},
   "outputs": [],
   "source": [
    "\n",
    "hover = HoverTool(tooltips=[\n",
    "    (\"Product\", \"@{Product Name}\"),\n",
    "    (\"Brand\", \"@Brand\"),\n",
    "    (\"Price\", \"@Price\")\n",
    "])\n",
    "p.add_tools(hover)"
   ]
  },
  {
   "cell_type": "markdown",
   "metadata": {},
   "source": [
    "10. Mapping the cosmetic items\n",
    "Finally, it's show time! Let's see how the map we've made looks like. Each point on the plot corresponds to the cosmetic items. Then what do the axes mean here? The axes of a t-SNE plot aren't easily interpretable in terms of the original data. Like mentioned above, t-SNE is a visualizing technique to plot high-dimensional data in a low-dimensional space. Therefore, it's not desirable to interpret a t-SNE plot quantitatively.\n",
    "\n",
    "Instead, what we can get from this map is the distance between the points (which items are close and which are far apart). The closer the distance between the two items is, the more similar the composition they have. Therefore this enables us to compare the items without having any chemistry background."
   ]
  },
  {
   "cell_type": "code",
   "execution_count": 86,
   "metadata": {},
   "outputs": [
    {
     "data": {
      "text/html": [
       "\n",
       "  <div id=\"efd4cac3-498a-44ba-8914-23f006596b50\" data-root-id=\"p2424\" style=\"display: contents;\"></div>\n"
      ]
     },
     "metadata": {},
     "output_type": "display_data"
    },
    {
     "data": {
      "application/javascript": "(function(root) {\n  function embed_document(root) {\n  const docs_json = {\"463696b9-ccef-4af6-98b1-b1bdfd61efe6\":{\"version\":\"3.5.0\",\"title\":\"Bokeh Application\",\"roots\":[{\"type\":\"object\",\"name\":\"Figure\",\"id\":\"p2424\",\"attributes\":{\"x_range\":{\"type\":\"object\",\"name\":\"DataRange1d\",\"id\":\"p2425\"},\"y_range\":{\"type\":\"object\",\"name\":\"DataRange1d\",\"id\":\"p2426\"},\"x_scale\":{\"type\":\"object\",\"name\":\"LinearScale\",\"id\":\"p2434\"},\"y_scale\":{\"type\":\"object\",\"name\":\"LinearScale\",\"id\":\"p2435\"},\"title\":{\"type\":\"object\",\"name\":\"Title\",\"id\":\"p2427\",\"attributes\":{\"text\":\"t-SNE Visualization of Cosmetic Ingredients\"}},\"renderers\":[{\"type\":\"object\",\"name\":\"GlyphRenderer\",\"id\":\"p2453\",\"attributes\":{\"data_source\":{\"type\":\"object\",\"name\":\"ColumnDataSource\",\"id\":\"p2421\",\"attributes\":{\"selected\":{\"type\":\"object\",\"name\":\"Selection\",\"id\":\"p2422\",\"attributes\":{\"indices\":[],\"line_indices\":[]}},\"selection_policy\":{\"type\":\"object\",\"name\":\"UnionRenderers\",\"id\":\"p2423\"},\"data\":{\"type\":\"map\",\"entries\":[[\"index\",{\"type\":\"ndarray\",\"array\":{\"type\":\"bytes\",\"data\":\"AAAAAAEAAAACAAAAAwAAAAQAAAAFAAAABgAAAAcAAAAIAAAACQAAAAoAAAALAAAADAAAAA0AAAAOAAAADwAAABAAAAARAAAAEgAAABMAAAAUAAAAFQAAABYAAAAXAAAAGAAAABkAAAAaAAAAGwAAABwAAAAdAAAAHgAAAB8AAAAgAAAAIQAAACIAAAAjAAAAJAAAACUAAAAmAAAAJwAAACgAAAApAAAAKgAAACsAAAAsAAAALQAAAC4AAAAvAAAAMAAAADEAAAAyAAAAMwAAADQAAAA1AAAANgAAADcAAAA4AAAAOQAAADoAAAA7AAAAPAAAAD0AAAA+AAAAPwAAAEAAAABBAAAAQgAAAEMAAABEAAAARQAAAEYAAABHAAAASAAAAEkAAABKAAAASwAAAEwAAABNAAAATgAAAE8AAABQAAAAUQAAAFIAAABTAAAAVAAAAFUAAABWAAAAVwAAAFgAAABZAAAAWgAAAFsAAABcAAAAXQAAAF4AAABfAAAAYAAAAGEAAABiAAAAYwAAAGQAAABlAAAAZgAAAGcAAABoAAAAaQAAAGoAAABrAAAAbAAAAG0AAABuAAAAbwAAAHAAAABxAAAAcgAAAHMAAAB0AAAAdQAAAHYAAAB3AAAAeAAAAHkAAAB6AAAAewAAAHwAAAB9AAAAfgAAAH8AAACAAAAAgQAAAIIAAACDAAAAhAAAAIUAAACGAAAAhwAAAIgAAACJAAAAigAAAIsAAACMAAAAjQAAAI4AAACPAAAAkAAAAJEAAACSAAAAkwAAAJQAAACVAAAAlgAAAJcAAACYAAAAmQAAAJoAAACbAAAAnAAAAJ0AAACeAAAAnwAAAKAAAAChAAAAogAAAKMAAACkAAAApQAAAKYAAACnAAAAqAAAAKkAAACqAAAAqwAAAKwAAACtAAAArgAAAK8AAACwAAAAsQAAALIAAACzAAAAtAAAALUAAAC2AAAAtwAAALgAAAC5AAAAugAAALsAAAC8AAAAvQAAAA==\"},\"shape\":[190],\"dtype\":\"int32\",\"order\":\"little\"}],[\"t-SNE 1\",{\"type\":\"ndarray\",\"array\":{\"type\":\"bytes\",\"data\":\"ME1HQ3Hby0JbUi9DynoYQwFzHMMamN3CMAVdwYMg8kL6rE3DdPOHwi7dM0P5cUpD/b4VQ/aNHkMIv8FCRzNJQ1OPMUHfdy3DcQjnwYuHFUOFqbnA+91dw0Z94cLbwoU/bH8DQnvCAsPcPrnCHaP+wlshy0Jt6DrCQIxmwvLdYMEWnIrCMIS7QjQOFcPhg5NCtCB6wgzw4kLUV2vDcpG3wjwRJUMvXhvDBb47w7XOMsOn677CaF2twRgPhUIx9PVCJtCKwlT7GMIGUxvDnFckww64AEAm4RRB3a0Uw20oq78sBe9CVNkhw22Vob9qBP7CNjkKQknhosLN67dCqcadwj/ax8LKzNjBMtAgw9hQ/sFtxfzC3rKJQcPQOENXjQtC8wznQufPRkL1XoXAkcHlQojAG0PHN8PCno9HQyiCDMNHfLtC4t41w0imtkJXwP3Ca75BweEwVsLI2cfCOXFEQ6KdcEIKVgDDvnkcQ8x4J0LS0ohB7UwPQzRNoEL3nxJCBZMTQuHUUkKChajBMTQkQu7CVcM2xF3Dkos1wm7+gkGmzcjCJ+0Vw9vChT/33rJC28KFP9vChT9OsCPD5x0tQ7/YMEMKDH7C28KFPyprgMKn28FC1Fdrw6a9acL9/unCPO0DwzMlmcFO+CxDWBuHQlKqK8JepDBB28KFP3ToTkMhV7hBF2P6QdvChT9MHP5CICyOwZrWQkNTouRCaHekv1t6osKGTgBDPwMfQ0gRi0LAisZB00/xwiCpPsOF5DrDK+6iwkcAj8InszPDD2cNQzYmBsLuIxBD0kOEQmtbR8NlOlhDDo5pQtvChT8SvC7D28KFPx6FyEFrG01BByPRwvEUqkLd3AnDywmiQr59MsPbwoU/CxtcQ1/DgEJXEgZDh/h8QjPTjMLbwoU/28KFP41B58L1ZBJD+16xwV/Xt0LbwoU//MQAQwHJAsLrzTBDaHekvw6JwMJZAO5AcqgXw3U8X8NXGTbCeOQ1Qrdl7UI2QgnCCCxGww==\"},\"shape\":[190],\"dtype\":\"float32\",\"order\":\"little\"}],[\"t-SNE 2\",{\"type\":\"ndarray\",\"array\":{\"type\":\"bytes\",\"data\":\"o0rPQo8AA8LOifvCDVIpQ/cCIMM8dXRCf64bwqJTtUI6yhdA7TU4QjqLVEIWV8rCJEPcwlgsA0LF8KPCZEb9QrK1A8OkhHFCQqNiwiC3LsI2YjVDrp+AwqZK0sJrGCxBThb0wACuOMPFxPxCwfUCQ2doVsLbNTpD80kHQ5Un4MLVlA7DcTdIQ4TI7cK9ixDDrSz7weZrCMOeHm4/MhpSwR10JcGVNbpC/DrEwi2YwMGVwxzDcLJGw9RHV0Krj8zCTX/MQoofXsNxRjfDg+VJwvxgNsPztB5DeU6xwohdVcPNpRVCdCAIQvzkqkJFThzC6L6cQhqzNkMTkubCdf5QQ+ra8UFDKwRDL5n4Qt6xmMAOXNZCy3cvQn2qS0EJ9DtDd+M6wzY1KcOoEmZD18kTQ5dxl8LD5DrDvxSUwea1hELkeyLDeH5JQQlbxUL2vY7CWdQ2Qqart8KgwC7Ch7OWQso0UsPZ5hrDdG2SQgLMIUNqKR/D+qUmwykAHcBzR69Bzg5CwxRo50LNpBDDIJFaQ7LVrcInGvzBXuijQlrMJ8KkKBtDlI3LwWsYLEHdjwJDaxgsQWsYLEFibydDWMUaQ6ZuMcKPUy7DaxgsQShzIEOkaoBCnh5uP/YUScMnuQHDtLgCQqBq1kJZVPRCVrs+Q9SSWkMnqgNDaxgsQQPSAUK/ZF/DEAbTwmsYLEF8tonCzpibwoiFgMLp2AZAzhFswqO13MKri+DBlkTIQkIgI8Iz4dJCN5Z+vvL85UJub6tCqACPQvQgdcJEMpDCSC8cQRklIEOmLwvD4vWVwgIRI8IoiT7CnJoLQ2sYLEE47wHDaxgsQfLof8Izvk5DwXa9QqnfPMOUgxtDsv4iQ+CFFENrGCxBSXToP7hLrUL4s25CCFzYwmqnCEFrGCxBaxgsQSkZNUNo1gtDqvFNQ7Fm20FrGCxBD0HqQgwm0EHKULjCzhFswo0Lm8I7m6PC4NWVQNd/E0JqfPXCxuIIw3k1MEO4HSjDpIM1Qg==\"},\"shape\":[190],\"dtype\":\"float32\",\"order\":\"little\"}],[\"Product Name\",{\"type\":\"ndarray\",\"array\":[\"Cr\\u00e8me de la Mer\",\"Facial Treatment Essence\",\"Protini\\u2122 Polypeptide Cream\",\"The Moisturizing Soft Cream\",\"Your Skin But Better\\u2122 CC+\\u2122 Cream with SPF 50+\",\"The Water Cream\",\"Lala Retro\\u2122 Whipped Cream\",\"Virgin Marula Luxury Facial Oil\",\"Ultra Facial Cream\",\"Little Miss Miracle Limited-Edition Cr\\u00e8me de la Mer\",\"Lotus Youth Preserve Moisturizer\",\"Midnight Recovery Concentrate\",\"The True Cream Aqua Bomb\",\"Luna Sleeping Night Oil\",\"Honeymoon Glow AHA Resurfacing Night Serum with Echinacea GreenEnvy\\u2122\",\"The Littles\\u2122\",\"Ultra Repair\\u00ae Cream Intense Hydration\",\"Moisture Surge 72-Hour Auto-Replenishing Hydrator\",\"Rose Deep Hydration Moisturizer\",\"R.N.A. POWER Face Cream\",\"Cr\\u00e8me de la Mer Mini\",\"COMPLEXION RESCUE\\u2122 Tinted Moisturizer Broad Spectrum SPF 30\",\"Bio-Performance Advanced Super Revitalizing Cream\",\"Black Tea Firming Overnight Mask\",\"The True Cream Moisturizing Bomb\",\"Charlotte's Magic Cream\",\"Virgin Marula Luxury Facial Oil Mini\",\"Dr. Andrew Weil For Origins\\u2122 Mega-Mushroom Relief & Resilience Soothing Treatment Lotion\",\"Dramatically Different Moisturizing Lotion+\",\"GenOptics Aura Essence Serum\",\"Black Tea Kombucha Antioxidant Essence\",\"Pure One Step Camellia Cleansing Oil\",\"Sheer Transformation\\u00ae Perfecting Moisturizer\",\"100 percent Pure Argan Oil\",\"Your Skin But Better CC+ Cream Oil-Free Matte with SPF 40\",\"Unicorn Essence Antioxidant Primer Serum\",\"Water Sleeping Mask\",\"Water Bank Moisture Cream\",\"Facial Treatment Essence Mini\",\"Premium Beauty Balm SPF 45\",\"Luminous Dewy Skin Mist\",\"Benefiance WrinkleResist24 Night Cream\",\"Dramatically Different Moisturizing Gel\",\"Goodnight Glow Retin-ALT Sleeping Cr\\u00e8me\",\"U.F.O. Ultra-Clarifying Face Oil\",\"Watermelon Glow Sleeping Mask\",\"Pink Cloud Rosewater Moisture Cr\\u00e8me\",\"Radiance Drops - Rainforest of the Sea\\u2122 Collection\",\"Tidal Brightening Enzyme Water Cream\",\"Beauty Elixir\",\"Grape Water\",\"Adaptogen Deep Moisture Cream\",\"The Renewal Oil\",\"Squalane + Vitamin C Rose Oil\",\"BB Tinted Treatment 12-Hour Primer Broad Spectrum SPF 30 Sunscreen\",\"Eudermine Revitalizing Essence\",\"GinZing\\u2122 Energy-Boosting Gel Moisturizer\",\"Micro Essence Skin Activating Treatment Lotion\",\"Beauty Water\",\"The Silk Cream\",\"C-Rush\\u2122 Brightening Gel Cr\\u00e8me\",\"Color Control Cushion Compact Broad Spectrum SPF 50+\",\"Vitamin Enriched Face Base Priming Moisturizer\",\"Cicapair \\u2122 Tiger Grass Color Correcting Treatment SPF 30\",\"Vinosource Moisturizing Sorbet\",\"Lapis Oil Balancing Facial Oil\",\"CC Cr\\u00e8me High Definition Radiance Face Cream Skin Perfector\",\"Camera Ready BB Cream SPF 35\",\"C.E.O. C + E antiOXIDANT Protect + Repair Moisturizer\",\"Rose Gold Elixir \\u2013 24k Gold Infused Beauty Oil\",\"Your Skin But Better\\u2122 CC+Illumination\\u2122 Cream with SPF 50+\",\"Luminous Dewy Skin Night Concentrate\",\"GLOWSTARTER\\u2122 Mega Illuminating Moisturizer\",\"Revitalizing Supreme Global Anti-Aging Cr\\u00e8me\",\"Ceramidin\\u2122 Cream\",\"Juno Antioxidant + Superfood Face Oil\",\"Seaberry Moisturizing Face Oil\",\"BB Cushion Hydra Radiance SPF 50\",\"FUTURE RESPONSE Age Defense Creme\",\"THIRSTYMUD\\u2122 Hydrating Treatment\",\"Honey Drop Lightweight Moisturizer with Echinacea GreenEnvy\\u2122\",\"Water Drench Hyaluronic Cloud Cream\",\"Vintage Single Extract Essence\",\"Confidence in a Cream\\u2122 Transforming Moisturizing Super Cream\",\"Black Tea Corset Cream Firming Moisturizer\",\"Cr\\u00e8me Ancienne\\u00ae\",\"Hello FAB Coconut Skin Smoothie Priming Moisturizer\",\"Secret Sauce Clinically Advanced Miraculous Anti-Aging Moisturizer\",\"Benefiance WrinkleResist24 Day Cream Broad Spectrum SPF 18\",\"Rose Floral Toner\",\"High-Potency Night-a-Mins\\u2122 Oil-Free Resurfacing Cream with Fruit-Derived AHAs\",\"Amazonian Clay BB Tinted Moisturizer Broad Spectrum SPF 20 Sunscreen\",\"Moisture Surge Intense Skin Fortifying Hydrator\",\"Argan Daily Moisturizer SPF 47\",\"Water Bank Essence\",\"Double-Duty Face Moisturizer Broad Spectrum SPF 20\",\"Watermelon Pink Juice Moisturizer\",\"The Concentrate Mini\",\"The Moisturizing Cool Gel Cream\",\"Renewed Hope in A Jar Refreshing & Refining Moisturizer\",\"Cold Plasma Sub-D Firming Neck Treatment\",\"R\\u00e9nergie Lift Multi-Action Night\",\"GENIUS Ultimate Anti-Aging Cream\",\"Your Skin But Better\\u2122 CC+ Airbrush Perfecting Powder\\u2122 with SPF 50+\",\"Cicapair\\u2122 Tiger Grass Cream\",\"Dramatically Different Hydrating Jelly\",\"Whipped Argan Oil Face Butter\",\"Nurture Me\\u2122 Moisturizing Cr\\u00e8me\",\"Benefiance WrinkleResist24 Balancing Softener Enriched\",\"Sleep Tight Firming Night Balm with Echinacea GreenEnvy\\u2122\",\"Original Skin\\u2122 Matte Moisturizer with Willowherb\",\"Phoenix Cell Regenerating Facial Oil\",\"Invigorating Night Transformation\\u2122 Gel\",\"Aqua Bomb Sleeping Mask\",\"Charlotte's Magic Cream Mini\",\"Superfood Air-Whip Hyaluronic Acid Moisture Cream\",\"Facial Treatment Essence Karan Singh Limited Edition\",\"The Indigo Cream Soothing Skin Protectant\",\"Super Multi-Corrective Cream\",\"Squalane + Omega Repair Cream\",\"Bio-Performance Advanced Super Restoring Cream\",\"High-Potency Night-a-Mins\\u2122 Resurfacing Cream with Fruit-Derived AHAs\",\"Benefiance WrinkleResist24 Day Emulsion Broad Spectrum SPF 18\",\"Mist & Fix Setting Spray\",\"Bye Bye Redness\\u2122 Neutralizing Correcting Cream\",\"Daily Reviving Concentrate\",\"BB Cream SPF 35\",\"Vitamin C Glow Moisturizer\",\"Wild Rose + Vitamin C Advanced Brightening Sleeping Facial\",\"Vitamin Nectar Antioxidant Face Mist\",\"Peat Miracle Revital Cream\",\"Superberry Hydrate + Glow Oil\",\"Hydro-Dynamic\\u00ae Ultimate Moisture\",\"Miracle Water 3-in-1 Micellar Cleanser\",\"Drink of H2O Hydrating Boost Moisturizer Rainforest of the Sea\\u2122\",\"Photo Finish Primer Water\",\"Ultra Repair Hydra-Firm Sleeping Cream\",\"Retinol Youth Renewal Night Cream\",\"Nutritious Vitality8\\u2122 Radiant Moisture Creme\",\"The Essence Plumping Skin Softener\",\"Midnight Secret Late Night Recovery Treatment\",\"Squalane + Probiotic Gel Moisturizer\",\"Capture Dreamskin Fresh & Perfect Cushion Broad Spectrum SPF 50\",\"Photo Finish Primerizer\",\"A Perfect World\\u2122 SPF 40 Age-Defense Moisturizer with White Tea\",\"Noni Glow Face Oil\",\"Water Bank Hydrating Gel\",\"GenOptics Spot Essence Serum\",\"Ferulic + Retinol Anti-Aging Moisturizer\",\"Evercalm\\u2122 Overnight Recovery Balm\",\"Oil-Control Mattifier SPF 15 PA++\",\"Counter Balance\\u2122 Oil Control Hydrator\",\"Capture Totale Dreamskin Advanced\",\"Ultra Facial Oil-Free Gel-Cream\",\"Ultra Repair\\u00ae Hydrating Serum\",\"Dr. Andrew Weil For Origins\\u2122 Mega-Bright SPF 30 Skin Tone Correcting Oil-Free Moisturizer\",\"100% Squalane Oil\",\"Ultra Repair Face Moisturizer\",\"Skin Perfecting Lotion - Blemish Prone/Oily Skin\",\"Abeille Royale Youth Watery Oil\",\"Black Tea Age-Delay Cream\",\"Plantscription\\u2122 SPF 25 Power Anti-Aging Cream\",\"The Moisturizing Soft Lotion\",\"Acne Solutions BB Cream Broad Spectrum SPF 40\",\"Benefiance WrinkleResist24 Night Emulsion\",\"Resveratrol Lift Night Infusion Cream\",\"ABSOLUE PREMIUM \\u00dfx \\u2013 Absolute Replenishing Cream SPF 15 Sunscreen\",\"Essential-C Day Moisture Broad Spectrum SPF 30 PA+++\",\"Moisture Surge CC Cream Hydrating Colour Corrector Broad Spectrum SPF 30\",\"Coconut Melt\",\"Future Solution LX Total Regenerating Cream\",\"Multi-Active Night Cream - Normal to Combination Skin\",\"Volcanic Elixir Polynesian Beauty Oil\",\"Maracuja Oil\",\"Ibuki Refining Moisturizer\",\"Ibuki Refining Moisturizer Enriched\",\"The Renewal Oil Mini\",\"Tech Neck Prevention Kit\",\"The Method: Nourish\",\"BIENFAIT MULTI-VITAL NIGHT - High Potency Night Moisturizing Cream VITA-NUTRI 8\\u2122\",\"Gold Camellia Beauty Oil\",\"Ferulic + Retinol Wrinkle Recovery Overnight Serum\",\"Camera Ready CC Cream Broad Spectrum SPF 30 Dark Spot Correcting\",\"Immortelle Divine Cream\",\"Advanced Time Zone Night Age Reversing Line/Wrinkle Cr\\u00e8me\",\"Oil Free Moisturizer\",\"CC Cream Daily Correct Broad Spectrum SPF 35+ Sunscreen\",\"Overnight Restorative Cream\",\"GinZing\\u2122 SPF 40 Energy-Boosting Tinted Moisturizer\",\"Premier Cru Cream\"],\"shape\":[190],\"dtype\":\"object\",\"order\":\"little\"}],[\"Brand\",{\"type\":\"ndarray\",\"array\":[\"LA MER\",\"SK-II\",\"DRUNK ELEPHANT\",\"LA MER\",\"IT COSMETICS\",\"TATCHA\",\"DRUNK ELEPHANT\",\"DRUNK ELEPHANT\",\"KIEHL'S SINCE 1851\",\"LA MER\",\"FRESH\",\"KIEHL'S SINCE 1851\",\"BELIF\",\"SUNDAY RILEY\",\"FARMACY\",\"DRUNK ELEPHANT\",\"FIRST AID BEAUTY\",\"CLINIQUE\",\"FRESH\",\"SK-II\",\"LA MER\",\"BAREMINERALS\",\"SHISEIDO\",\"FRESH\",\"BELIF\",\"CHARLOTTE TILBURY\",\"DRUNK ELEPHANT\",\"ORIGINS\",\"CLINIQUE\",\"SK-II\",\"FRESH\",\"TATCHA\",\"OLEHENRIKSEN\",\"JOSIE MARAN\",\"IT COSMETICS\",\"FARS\\u00c1LI\",\"LANEIGE\",\"LANEIGE\",\"SK-II\",\"DR. JART+\",\"TATCHA\",\"SHISEIDO\",\"CLINIQUE\",\"OLEHENRIKSEN\",\"SUNDAY RILEY\",\"GLOW RECIPE\",\"HERBIVORE\",\"TARTE\",\"SUNDAY RILEY\",\"CAUDALIE\",\"CAUDALIE\",\"YOUTH TO THE PEOPLE\",\"LA MER\",\"BIOSSANCE\",\"TARTE\",\"SHISEIDO\",\"ORIGINS\",\"EST\\u00c9E LAUDER\",\"SON & PARK\",\"TATCHA\",\"OLEHENRIKSEN\",\"AMOREPACIFIC\",\"BOBBI BROWN\",\"DR. JART+\",\"CAUDALIE\",\"HERBIVORE\",\"ERBORIAN\",\"SMASHBOX\",\"SUNDAY RILEY\",\"FARS\\u00c1LI\",\"IT COSMETICS\",\"TATCHA\",\"GLAMGLOW\",\"EST\\u00c9E LAUDER\",\"DR. JART+\",\"SUNDAY RILEY\",\"FRESH\",\"LANEIGE\",\"AMOREPACIFIC\",\"GLAMGLOW\",\"FARMACY\",\"PETER THOMAS ROTH\",\"AMOREPACIFIC\",\"IT COSMETICS\",\"FRESH\",\"FRESH\",\"FIRST AID BEAUTY\",\"IT COSMETICS\",\"SHISEIDO\",\"FRESH\",\"ORIGINS\",\"TARTE\",\"CLINIQUE\",\"JOSIE MARAN\",\"LANEIGE\",\"JACK BLACK\",\"GLOW RECIPE\",\"LA MER\",\"LA MER\",\"PHILOSOPHY\",\"PERRICONE MD\",\"LANC\\u00d4ME\",\"ALGENIST\",\"IT COSMETICS\",\"DR. JART+\",\"CLINIQUE\",\"JOSIE MARAN\",\"OLEHENRIKSEN\",\"SHISEIDO\",\"FARMACY\",\"ORIGINS\",\"HERBIVORE\",\"OLEHENRIKSEN\",\"BELIF\",\"CHARLOTTE TILBURY\",\"YOUTH TO THE PEOPLE\",\"SK-II\",\"TATCHA\",\"KIEHL'S SINCE 1851\",\"BIOSSANCE\",\"SHISEIDO\",\"ORIGINS\",\"SHISEIDO\",\"MAKE UP FOR EVER\",\"IT COSMETICS\",\"KIEHL'S SINCE 1851\",\"BOBBI BROWN\",\"FRESH\",\"KORRES\",\"FRESH\",\"BELIF\",\"YOUTH TO THE PEOPLE\",\"MURAD\",\"IT COSMETICS\",\"TARTE\",\"SMASHBOX\",\"FIRST AID BEAUTY\",\"MURAD\",\"EST\\u00c9E LAUDER\",\"TATCHA\",\"GUERLAIN\",\"BIOSSANCE\",\"DIOR\",\"SMASHBOX\",\"ORIGINS\",\"KORA ORGANICS\",\"LANEIGE\",\"SK-II\",\"DR. DENNIS GROSS SKINCARE\",\"REN CLEAN SKINCARE\",\"MURAD\",\"OLEHENRIKSEN\",\"DIOR\",\"KIEHL'S SINCE 1851\",\"FIRST AID BEAUTY\",\"ORIGINS\",\"BIOSSANCE\",\"FIRST AID BEAUTY\",\"MURAD\",\"GUERLAIN\",\"FRESH\",\"ORIGINS\",\"LA MER\",\"CLINIQUE\",\"SHISEIDO\",\"CAUDALIE\",\"LANC\\u00d4ME\",\"MURAD\",\"CLINIQUE\",\"KOPARI\",\"SHISEIDO\",\"CLARINS\",\"FARS\\u00c1LI\",\"TARTE\",\"SHISEIDO\",\"SHISEIDO\",\"LA MER\",\"NURSE JAMIE\",\"LANCER\",\"LANC\\u00d4ME\",\"TATCHA\",\"DR. DENNIS GROSS SKINCARE\",\"SMASHBOX\",\"L'OCCITANE\",\"EST\\u00c9E LAUDER\",\"KATE SOMERVILLE\",\"SUPERGOOP!\",\"ALGENIST\",\"ORIGINS\",\"CAUDALIE\"],\"shape\":[190],\"dtype\":\"object\",\"order\":\"little\"}],[\"Price\",{\"type\":\"ndarray\",\"array\":{\"type\":\"bytes\",\"data\":\"rwAAALMAAABEAAAArwAAACYAAABEAAAAPAAAAEgAAAAdAAAARQEAAC0AAAAvAAAAJgAAAGkAAAA6AAAAWgAAAB4AAAAnAAAAKAAAAOYAAABVAAAAHgAAAE4AAABcAAAAJgAAAGQAAAAoAAAAIgAAABwAAADwAAAARAAAADAAAAAmAAAAMAAAACYAAAA2AAAAGQAAACMAAABjAAAAJwAAADAAAAA/AAAAHAAAADcAAABQAAAALQAAADAAAAAgAAAAQQAAABIAAAAKAAAAOgAAAPUAAABIAAAAJQAAADkAAAAdAAAAZAAAAB4AAAB4AAAALAAAADwAAAA8AAAANAAAACcAAABIAAAALAAAACoAAABBAAAANgAAACYAAABuAAAAMQAAAFIAAAAwAAAASAAAADQAAAAmAAAAwwAAADsAAAAtAAAANAAAAJEAAAAwAAAAXwAAACIBAAAcAAAARAAAADwAAAAoAAAALQAAACQAAAAnAAAAIAAAACQAAAAcAAAAJwAAAL4AAACvAAAAJwAAAIcAAAB6AAAAcAAAACMAAAAwAAAAHAAAACgAAAAoAAAALQAAADAAAAAjAAAAWAAAADAAAAAiAAAAHQAAADAAAADlAAAAVQAAAFQAAAA6AAAAfwAAAC0AAAA8AAAAHgAAACAAAAAvAAAALwAAACoAAAAwAAAALAAAADoAAAAsAAAASwAAACYAAAAnAAAAIAAAACYAAABSAAAAQQAAAF8AAAAdAAAANAAAAFIAAAAqAAAALQAAAEQAAAAjAAAA4QAAAEsAAAAwAAAAKAAAACIAAABzAAAAHQAAACQAAAA4AAAAOgAAABgAAAAoAAAAMgAAAFoAAAA8AAAADgEAACcAAAA/AAAATAAAAK8AAAA/AAAAJwAAABwAAAAYAQAAOQAAACcAAAAwAAAALQAAAC0AAACCAAAARQAAAH0AAAA0AAAAXwAAAFgAAAAqAAAAbgAAAFAAAABBAAAAIgAAAF4AAAAnAAAAjAAAAA==\"},\"shape\":[190],\"dtype\":\"int32\",\"order\":\"little\"}]]}}},\"view\":{\"type\":\"object\",\"name\":\"CDSView\",\"id\":\"p2454\",\"attributes\":{\"filter\":{\"type\":\"object\",\"name\":\"AllIndices\",\"id\":\"p2455\"}}},\"glyph\":{\"type\":\"object\",\"name\":\"Scatter\",\"id\":\"p2450\",\"attributes\":{\"x\":{\"type\":\"field\",\"field\":\"t-SNE 1\"},\"y\":{\"type\":\"field\",\"field\":\"t-SNE 2\"},\"size\":{\"type\":\"value\",\"value\":8},\"line_color\":{\"type\":\"field\",\"field\":\"Brand\",\"transform\":{\"type\":\"object\",\"name\":\"CategoricalColorMapper\",\"id\":\"p2446\",\"attributes\":{\"palette\":[\"#440154\",\"#440255\",\"#440357\",\"#450558\",\"#45065A\",\"#45085B\",\"#46095C\",\"#460B5E\",\"#460C5F\",\"#460E61\",\"#470F62\",\"#471163\",\"#471265\",\"#471466\",\"#471567\",\"#471669\",\"#47186A\",\"#48196B\",\"#481A6C\",\"#481C6E\",\"#481D6F\",\"#481E70\",\"#482071\",\"#482172\",\"#482273\",\"#482374\",\"#472575\",\"#472676\",\"#472777\",\"#472878\",\"#472A79\",\"#472B7A\",\"#472C7B\",\"#462D7C\",\"#462F7C\",\"#46307D\",\"#46317E\",\"#45327F\",\"#45347F\",\"#453580\",\"#453681\",\"#443781\",\"#443982\",\"#433A83\",\"#433B83\",\"#433C84\",\"#423D84\",\"#423E85\",\"#424085\",\"#414186\",\"#414286\",\"#404387\",\"#404487\",\"#3F4587\",\"#3F4788\",\"#3E4888\",\"#3E4989\",\"#3D4A89\",\"#3D4B89\",\"#3D4C89\",\"#3C4D8A\",\"#3C4E8A\",\"#3B508A\",\"#3B518A\",\"#3A528B\",\"#3A538B\",\"#39548B\",\"#39558B\",\"#38568B\",\"#38578C\",\"#37588C\",\"#37598C\",\"#365A8C\",\"#365B8C\",\"#355C8C\",\"#355D8C\",\"#345E8D\",\"#345F8D\",\"#33608D\",\"#33618D\",\"#32628D\",\"#32638D\",\"#31648D\",\"#31658D\",\"#31668D\",\"#30678D\",\"#30688D\",\"#2F698D\",\"#2F6A8D\",\"#2E6B8E\",\"#2E6C8E\",\"#2E6D8E\",\"#2D6E8E\",\"#2D6F8E\",\"#2C708E\",\"#2C718E\",\"#2C728E\",\"#2B738E\",\"#2B748E\",\"#2A758E\",\"#2A768E\",\"#2A778E\",\"#29788E\",\"#29798E\",\"#287A8E\",\"#287A8E\",\"#287B8E\",\"#277C8E\",\"#277D8E\",\"#277E8E\",\"#267F8E\",\"#26808E\",\"#26818E\",\"#25828E\",\"#25838D\",\"#24848D\",\"#24858D\",\"#24868D\",\"#23878D\",\"#23888D\",\"#23898D\",\"#22898D\",\"#228A8D\",\"#228B8D\",\"#218C8D\",\"#218D8C\",\"#218E8C\",\"#208F8C\",\"#20908C\",\"#20918C\",\"#1F928C\",\"#1F938B\",\"#1F948B\",\"#1F958B\",\"#1F968B\",\"#1E978A\",\"#1E988A\",\"#1E998A\",\"#1E998A\",\"#1E9A89\",\"#1E9B89\",\"#1E9C89\",\"#1E9D88\",\"#1E9E88\",\"#1E9F88\",\"#1EA087\",\"#1FA187\",\"#1FA286\",\"#1FA386\",\"#20A485\",\"#20A585\",\"#21A685\",\"#21A784\",\"#22A784\",\"#23A883\",\"#23A982\",\"#24AA82\",\"#25AB81\",\"#26AC81\",\"#27AD80\",\"#28AE7F\",\"#29AF7F\",\"#2AB07E\",\"#2BB17D\",\"#2CB17D\",\"#2EB27C\",\"#2FB37B\",\"#30B47A\",\"#32B57A\",\"#33B679\",\"#35B778\",\"#36B877\",\"#38B976\",\"#39B976\",\"#3BBA75\",\"#3DBB74\",\"#3EBC73\",\"#40BD72\",\"#42BE71\",\"#44BE70\",\"#45BF6F\",\"#47C06E\",\"#49C16D\",\"#4BC26C\",\"#4DC26B\",\"#4FC369\",\"#51C468\",\"#53C567\",\"#55C666\",\"#57C665\",\"#59C764\",\"#5BC862\",\"#5EC961\",\"#60C960\",\"#62CA5F\",\"#64CB5D\",\"#67CC5C\",\"#69CC5B\",\"#6BCD59\",\"#6DCE58\",\"#70CE56\",\"#72CF55\",\"#74D054\",\"#77D052\",\"#79D151\",\"#7CD24F\",\"#7ED24E\",\"#81D34C\",\"#83D34B\",\"#86D449\",\"#88D547\",\"#8BD546\",\"#8DD644\",\"#90D643\",\"#92D741\",\"#95D73F\",\"#97D83E\",\"#9AD83C\",\"#9DD93A\",\"#9FD938\",\"#A2DA37\",\"#A5DA35\",\"#A7DB33\",\"#AADB32\",\"#ADDC30\",\"#AFDC2E\",\"#B2DD2C\",\"#B5DD2B\",\"#B7DD29\",\"#BADE27\",\"#BDDE26\",\"#BFDF24\",\"#C2DF22\",\"#C5DF21\",\"#C7E01F\",\"#CAE01E\",\"#CDE01D\",\"#CFE11C\",\"#D2E11B\",\"#D4E11A\",\"#D7E219\",\"#DAE218\",\"#DCE218\",\"#DFE318\",\"#E1E318\",\"#E4E318\",\"#E7E419\",\"#E9E419\",\"#ECE41A\",\"#EEE51B\",\"#F1E51C\",\"#F3E51E\",\"#F6E61F\",\"#F8E621\",\"#FAE622\",\"#FDE724\"],\"factors\":{\"type\":\"ndarray\",\"array\":[\"LA MER\",\"SK-II\",\"DRUNK ELEPHANT\",\"IT COSMETICS\",\"TATCHA\",\"KIEHL'S SINCE 1851\",\"FRESH\",\"BELIF\",\"SUNDAY RILEY\",\"FARMACY\",\"FIRST AID BEAUTY\",\"CLINIQUE\",\"BAREMINERALS\",\"SHISEIDO\",\"CHARLOTTE TILBURY\",\"ORIGINS\",\"OLEHENRIKSEN\",\"JOSIE MARAN\",\"FARS\\u00c1LI\",\"LANEIGE\",\"DR. JART+\",\"GLOW RECIPE\",\"HERBIVORE\",\"TARTE\",\"CAUDALIE\",\"YOUTH TO THE PEOPLE\",\"BIOSSANCE\",\"EST\\u00c9E LAUDER\",\"SON & PARK\",\"AMOREPACIFIC\",\"BOBBI BROWN\",\"ERBORIAN\",\"SMASHBOX\",\"GLAMGLOW\",\"PETER THOMAS ROTH\",\"JACK BLACK\",\"PHILOSOPHY\",\"PERRICONE MD\",\"LANC\\u00d4ME\",\"ALGENIST\",\"MAKE UP FOR EVER\",\"KORRES\",\"MURAD\",\"GUERLAIN\",\"DIOR\",\"KORA ORGANICS\",\"DR. DENNIS GROSS SKINCARE\",\"REN CLEAN SKINCARE\",\"KOPARI\",\"CLARINS\",\"NURSE JAMIE\",\"LANCER\",\"L'OCCITANE\",\"KATE SOMERVILLE\",\"SUPERGOOP!\"],\"shape\":[55],\"dtype\":\"object\",\"order\":\"little\"}}}},\"fill_color\":{\"type\":\"field\",\"field\":\"Brand\",\"transform\":{\"id\":\"p2446\"}},\"fill_alpha\":{\"type\":\"value\",\"value\":0.6},\"hatch_color\":{\"type\":\"field\",\"field\":\"Brand\",\"transform\":{\"id\":\"p2446\"}}}},\"nonselection_glyph\":{\"type\":\"object\",\"name\":\"Scatter\",\"id\":\"p2451\",\"attributes\":{\"x\":{\"type\":\"field\",\"field\":\"t-SNE 1\"},\"y\":{\"type\":\"field\",\"field\":\"t-SNE 2\"},\"size\":{\"type\":\"value\",\"value\":8},\"line_color\":{\"type\":\"field\",\"field\":\"Brand\",\"transform\":{\"id\":\"p2446\"}},\"line_alpha\":{\"type\":\"value\",\"value\":0.1},\"fill_color\":{\"type\":\"field\",\"field\":\"Brand\",\"transform\":{\"id\":\"p2446\"}},\"fill_alpha\":{\"type\":\"value\",\"value\":0.1},\"hatch_color\":{\"type\":\"field\",\"field\":\"Brand\",\"transform\":{\"id\":\"p2446\"}},\"hatch_alpha\":{\"type\":\"value\",\"value\":0.1}}},\"muted_glyph\":{\"type\":\"object\",\"name\":\"Scatter\",\"id\":\"p2452\",\"attributes\":{\"x\":{\"type\":\"field\",\"field\":\"t-SNE 1\"},\"y\":{\"type\":\"field\",\"field\":\"t-SNE 2\"},\"size\":{\"type\":\"value\",\"value\":8},\"line_color\":{\"type\":\"field\",\"field\":\"Brand\",\"transform\":{\"id\":\"p2446\"}},\"line_alpha\":{\"type\":\"value\",\"value\":0.2},\"fill_color\":{\"type\":\"field\",\"field\":\"Brand\",\"transform\":{\"id\":\"p2446\"}},\"fill_alpha\":{\"type\":\"value\",\"value\":0.2},\"hatch_color\":{\"type\":\"field\",\"field\":\"Brand\",\"transform\":{\"id\":\"p2446\"}},\"hatch_alpha\":{\"type\":\"value\",\"value\":0.2}}}}}],\"toolbar\":{\"type\":\"object\",\"name\":\"Toolbar\",\"id\":\"p2433\",\"attributes\":{\"tools\":[{\"type\":\"object\",\"name\":\"HoverTool\",\"id\":\"p2416\",\"attributes\":{\"renderers\":\"auto\",\"tooltips\":[[\"Product\",\"@{Product Name}\"],[\"Brand\",\"@Brand\"],[\"Price\",\"@Price\"]]}},{\"type\":\"object\",\"name\":\"HoverTool\",\"id\":\"p2458\",\"attributes\":{\"renderers\":\"auto\",\"tooltips\":[[\"Product\",\"@{Product Name}\"],[\"Brand\",\"@Brand\"],[\"Price\",\"@Price\"]]}}]}},\"left\":[{\"type\":\"object\",\"name\":\"LinearAxis\",\"id\":\"p2441\",\"attributes\":{\"ticker\":{\"type\":\"object\",\"name\":\"BasicTicker\",\"id\":\"p2442\",\"attributes\":{\"mantissas\":[1,2,5]}},\"formatter\":{\"type\":\"object\",\"name\":\"BasicTickFormatter\",\"id\":\"p2443\"},\"axis_label\":\"t-SNE 2\",\"major_label_policy\":{\"type\":\"object\",\"name\":\"AllLabels\",\"id\":\"p2444\"}}}],\"below\":[{\"type\":\"object\",\"name\":\"LinearAxis\",\"id\":\"p2436\",\"attributes\":{\"ticker\":{\"type\":\"object\",\"name\":\"BasicTicker\",\"id\":\"p2437\",\"attributes\":{\"mantissas\":[1,2,5]}},\"formatter\":{\"type\":\"object\",\"name\":\"BasicTickFormatter\",\"id\":\"p2438\"},\"axis_label\":\"t-SNE 1\",\"major_label_policy\":{\"type\":\"object\",\"name\":\"AllLabels\",\"id\":\"p2439\"}}}],\"center\":[{\"type\":\"object\",\"name\":\"Grid\",\"id\":\"p2440\",\"attributes\":{\"axis\":{\"id\":\"p2436\"}}},{\"type\":\"object\",\"name\":\"Grid\",\"id\":\"p2445\",\"attributes\":{\"dimension\":1,\"axis\":{\"id\":\"p2441\"}}}]}}]}};\n  const render_items = [{\"docid\":\"463696b9-ccef-4af6-98b1-b1bdfd61efe6\",\"roots\":{\"p2424\":\"efd4cac3-498a-44ba-8914-23f006596b50\"},\"root_ids\":[\"p2424\"]}];\n  void root.Bokeh.embed.embed_items_notebook(docs_json, render_items);\n  }\n  if (root.Bokeh !== undefined) {\n    embed_document(root);\n  } else {\n    let attempts = 0;\n    const timer = setInterval(function(root) {\n      if (root.Bokeh !== undefined) {\n        clearInterval(timer);\n        embed_document(root);\n      } else {\n        attempts++;\n        if (attempts > 100) {\n          clearInterval(timer);\n          console.log(\"Bokeh: ERROR: Unable to run BokehJS code because BokehJS library is missing\");\n        }\n      }\n    }, 10, root)\n  }\n})(window);",
      "application/vnd.bokehjs_exec.v0+json": ""
     },
     "metadata": {
      "application/vnd.bokehjs_exec.v0+json": {
       "id": "p2424"
      }
     },
     "output_type": "display_data"
    }
   ],
   "source": [
    "show(p)"
   ]
  },
  {
   "cell_type": "markdown",
   "metadata": {},
   "source": [
    "11. Comparing two products\n",
    "Since there are so many cosmetics and so many ingredients, the plot doesn't have many super obvious patterns that simpler t-SNE plots can have. Our plot requires some digging to find insights, but that's okay!\n",
    "\n",
    "Say we enjoyed a specific product, there's an increased chance we'd enjoy another product that is similar in chemical composition. Say we enjoyed AmorePacific's Color Control Cushion Compact Broad Spectrum SPF 50+. We could find this product on the plot and see if a similar product(s) exist. And it turns out it does! If we look at the points furthest left on the plot, we see LANEIGE's BB Cushion Hydra Radiance SPF 50 essentially overlaps with the AmorePacific product. By looking at the ingredients, we can visually confirm the compositions of the products are similar (though it is difficult to do, which is why we did this analysis in the first place!), plus LANEIGE's version is $22 cheaper and actually has higher ratings.\n",
    "\n",
    "It's not perfect, but it's useful. In real life, we can actually use our little ingredient-based recommendation engine help us make educated cosmetic purchase choices."
   ]
  },
  {
   "cell_type": "code",
   "execution_count": 87,
   "metadata": {},
   "outputs": [
    {
     "data": {
      "text/html": [
       "<div>\n",
       "<style scoped>\n",
       "    .dataframe tbody tr th:only-of-type {\n",
       "        vertical-align: middle;\n",
       "    }\n",
       "\n",
       "    .dataframe tbody tr th {\n",
       "        vertical-align: top;\n",
       "    }\n",
       "\n",
       "    .dataframe thead th {\n",
       "        text-align: right;\n",
       "    }\n",
       "</style>\n",
       "<table border=\"1\" class=\"dataframe\">\n",
       "  <thead>\n",
       "    <tr style=\"text-align: right;\">\n",
       "      <th></th>\n",
       "      <th>Label</th>\n",
       "      <th>Brand</th>\n",
       "      <th>Name</th>\n",
       "      <th>Price</th>\n",
       "      <th>Rank</th>\n",
       "      <th>Ingredients</th>\n",
       "      <th>Combination</th>\n",
       "      <th>Dry</th>\n",
       "      <th>Normal</th>\n",
       "      <th>Oily</th>\n",
       "      <th>Sensitive</th>\n",
       "      <th>X</th>\n",
       "      <th>Y</th>\n",
       "    </tr>\n",
       "  </thead>\n",
       "  <tbody>\n",
       "    <tr>\n",
       "      <th>45</th>\n",
       "      <td>Moisturizer</td>\n",
       "      <td>AMOREPACIFIC</td>\n",
       "      <td>Color Control Cushion Compact Broad Spectrum S...</td>\n",
       "      <td>60</td>\n",
       "      <td>4.0</td>\n",
       "      <td>Phyllostachis Bambusoides Juice, Cyclopentasil...</td>\n",
       "      <td>1</td>\n",
       "      <td>1</td>\n",
       "      <td>1</td>\n",
       "      <td>1</td>\n",
       "      <td>1</td>\n",
       "      <td>-9.419198</td>\n",
       "      <td>-335.968231</td>\n",
       "    </tr>\n",
       "  </tbody>\n",
       "</table>\n",
       "</div>"
      ],
      "text/plain": [
       "          Label         Brand  \\\n",
       "45  Moisturizer  AMOREPACIFIC   \n",
       "\n",
       "                                                 Name  Price  Rank  \\\n",
       "45  Color Control Cushion Compact Broad Spectrum S...     60   4.0   \n",
       "\n",
       "                                          Ingredients  Combination  Dry  \\\n",
       "45  Phyllostachis Bambusoides Juice, Cyclopentasil...            1    1   \n",
       "\n",
       "    Normal  Oily  Sensitive         X           Y  \n",
       "45       1     1          1 -9.419198 -335.968231  "
      ]
     },
     "metadata": {},
     "output_type": "display_data"
    },
    {
     "name": "stdout",
     "output_type": "stream",
     "text": [
      "['Phyllostachis Bambusoides Juice, Cyclopentasiloxane, Cyclohexasiloxane, Peg-10 Dimethicone, Phenyl Trimethicone, Butylene Glycol, Butylene Glycol Dicaprylate/Dicaprate, Alcohol, Arbutin, Lauryl Peg-9 Polydimethylsiloxyethyl Dimethicone, Acrylates/Ethylhexyl Acrylate/Dimethicone Methacrylate Copolymer, Polyhydroxystearic Acid, Sodium Chloride, Polymethyl Methacrylate, Aluminium Hydroxide, Stearic Acid, Disteardimonium Hectorite, Triethoxycaprylylsilane, Ethylhexyl Palmitate, Lecithin, Isostearic Acid, Isopropyl Palmitate, Phenoxyethanol, Polyglyceryl-3 Polyricinoleate, Acrylates/Stearyl Acrylate/Dimethicone Methacrylate Copolymer, Dimethicone, Disodium Edta, Trimethylsiloxysilicate, Ethylhexyglycerin, Dimethicone/Vinyl Dimethicone Crosspolymer, Water, Silica, Camellia Japonica Seed Oil, Camillia Sinensis Leaf Extract, Caprylyl Glycol, 1,2-Hexanediol, Fragrance, Titanium Dioxide, Iron Oxides (Ci 77492, Ci 77491, Ci77499).']\n"
     ]
    },
    {
     "data": {
      "text/html": [
       "<div>\n",
       "<style scoped>\n",
       "    .dataframe tbody tr th:only-of-type {\n",
       "        vertical-align: middle;\n",
       "    }\n",
       "\n",
       "    .dataframe tbody tr th {\n",
       "        vertical-align: top;\n",
       "    }\n",
       "\n",
       "    .dataframe thead th {\n",
       "        text-align: right;\n",
       "    }\n",
       "</style>\n",
       "<table border=\"1\" class=\"dataframe\">\n",
       "  <thead>\n",
       "    <tr style=\"text-align: right;\">\n",
       "      <th></th>\n",
       "      <th>Label</th>\n",
       "      <th>Brand</th>\n",
       "      <th>Name</th>\n",
       "      <th>Price</th>\n",
       "      <th>Rank</th>\n",
       "      <th>Ingredients</th>\n",
       "      <th>Combination</th>\n",
       "      <th>Dry</th>\n",
       "      <th>Normal</th>\n",
       "      <th>Oily</th>\n",
       "      <th>Sensitive</th>\n",
       "      <th>X</th>\n",
       "      <th>Y</th>\n",
       "    </tr>\n",
       "  </thead>\n",
       "  <tbody>\n",
       "    <tr>\n",
       "      <th>55</th>\n",
       "      <td>Moisturizer</td>\n",
       "      <td>LANEIGE</td>\n",
       "      <td>BB Cushion Hydra Radiance SPF 50</td>\n",
       "      <td>38</td>\n",
       "      <td>4.3</td>\n",
       "      <td>Water, Cyclopentasiloxane, Zinc Oxide (CI 7794...</td>\n",
       "      <td>1</td>\n",
       "      <td>1</td>\n",
       "      <td>1</td>\n",
       "      <td>1</td>\n",
       "      <td>1</td>\n",
       "      <td>-31.170496</td>\n",
       "      <td>-359.229309</td>\n",
       "    </tr>\n",
       "  </tbody>\n",
       "</table>\n",
       "</div>"
      ],
      "text/plain": [
       "          Label    Brand                              Name  Price  Rank  \\\n",
       "55  Moisturizer  LANEIGE  BB Cushion Hydra Radiance SPF 50     38   4.3   \n",
       "\n",
       "                                          Ingredients  Combination  Dry  \\\n",
       "55  Water, Cyclopentasiloxane, Zinc Oxide (CI 7794...            1    1   \n",
       "\n",
       "    Normal  Oily  Sensitive          X           Y  \n",
       "55       1     1          1 -31.170496 -359.229309  "
      ]
     },
     "metadata": {},
     "output_type": "display_data"
    },
    {
     "name": "stdout",
     "output_type": "stream",
     "text": [
      "['Water, Cyclopentasiloxane, Zinc Oxide (CI 77947), Ethylhexyl Methoxycinnamate, PEG-10 Dimethicone, Cyclohexasiloxane, Phenyl Trimethicone, Iron Oxides (CI 77492), Butylene Glycol Dicaprylate/Dicaprate, Niacinamide, Lauryl PEG-9 Polydimethylsiloxyethyl Dimethicone, Acrylates/Ethylhexyl Acrylate/Dimethicone Methacrylate Copolymer, Titanium Dioxide (CI 77891 , Iron Oxides (CI 77491), Butylene Glycol, Sodium Chloride, Iron Oxides (CI 77499), Aluminum Hydroxide, HDI/Trimethylol Hexyllactone Crosspolymer, Stearic Acid, Methyl Methacrylate Crosspolymer, Triethoxycaprylylsilane, Phenoxyethanol, Fragrance, Disteardimonium Hectorite, Caprylyl Glycol, Yeast Extract, Acrylates/Stearyl Acrylate/Dimethicone Methacrylate Copolymer, Dimethicone, Trimethylsiloxysilicate, Polysorbate 80, Disodium EDTA, Hydrogenated Lecithin, Dimethicone/Vinyl Dimethicone Crosspolymer, Mica (CI 77019), Silica, 1,2-Hexanediol, Polypropylsilsesquioxane, Chenopodium Quinoa Seed Extract, Magnesium Sulfate, Calcium Chloride, Camellia Sinensis Leaf Extract, Manganese Sulfate, Zinc Sulfate, Ascorbyl Glucoside.']\n"
     ]
    }
   ],
   "source": [
    "\n",
    "sc_1 = moisturizers_dry[moisturizers_dry['Name'] == \"Color Control Cushion Compact Broad Spectrum SPF 50+\"]\n",
    "sc_2 = moisturizers_dry[moisturizers_dry['Name'] == \"BB Cushion Hydra Radiance SPF 50\"]\n",
    "\n",
    "display(sc_1)\n",
    "print(sc_1.Ingredients.values)\n",
    "display(sc_2)\n",
    "print(sc_2.Ingredients.values)"
   ]
  },
  {
   "cell_type": "code",
   "execution_count": 90,
   "metadata": {},
   "outputs": [
    {
     "name": "stdout",
     "output_type": "stream",
     "text": [
      "                  Brand                                            Name  Price\n",
      "117              TATCHA       The Indigo Cream Soothing Skin Protectant     85\n",
      "8    KIEHL'S SINCE 1851                              Ultra Facial Cream     29\n",
      "81    PETER THOMAS ROTH             Water Drench Hyaluronic Cloud Cream     52\n",
      "183          L'OCCITANE                         Immortelle Divine Cream    110\n",
      "169              KOPARI                                    Coconut Melt     28\n",
      "141           BIOSSANCE            Squalane + Probiotic Gel Moisturizer     52\n",
      "57         ESTÉE LAUDER  Micro Essence Skin Activating Treatment Lotion    100\n",
      "120            SHISEIDO  Bio-Performance Advanced Super Restoring Cream    127\n",
      "189            CAUDALIE                               Premier Cru Cream    140\n",
      "64             CAUDALIE                  Vinosource Moisturizing Sorbet     39\n"
     ]
    }
   ],
   "source": [
    "from sklearn.metrics.pairwise import cosine_similarity\n",
    "import numpy as np\n",
    "\n",
    "cosine_sim = cosine_similarity(tsne_feats)\n",
    "\n",
    "def get_recommendations(product_name, cosine_sim=cosine_sim):\n",
    "    if product_name not in df['Name'].values:\n",
    "        return f\"Product '{product_name}' not found in the dataset.\"\n",
    "    \n",
    "    idx = df[df['Name'] == product_name].index[0]\n",
    "    s_scores = list(enumerate(cosine_sim[idx]))\n",
    "    s_scores = sorted(s_scores, key=lambda x: x[1], reverse=True)\n",
    "    s_scores = s_scores[1:11]\n",
    "    product_indices = [i[0] for i in s_scores]\n",
    "    return df.iloc[product_indices][['Brand', 'Name', 'Price']]\n",
    "\n",
    "# Example usage\n",
    "# Enter the product_name(coloum3 from the dataset) to get recomandations\n",
    "# It gives top 10 similar products (excluding the product itself) in decending order\n",
    "print(get_recommendations('Facial Treatment Essence Mini'))"
   ]
  }
 ],
 "metadata": {
  "kernelspec": {
   "display_name": "Python 3",
   "language": "python",
   "name": "python3"
  },
  "language_info": {
   "codemirror_mode": {
    "name": "ipython",
    "version": 3
   },
   "file_extension": ".py",
   "mimetype": "text/x-python",
   "name": "python",
   "nbconvert_exporter": "python",
   "pygments_lexer": "ipython3",
   "version": "3.11.5"
  }
 },
 "nbformat": 4,
 "nbformat_minor": 2
}
